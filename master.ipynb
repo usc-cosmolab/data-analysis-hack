{
 "cells": [
  {
   "cell_type": "code",
   "execution_count": 4,
   "id": "ff6cffd4-0690-4993-b1e1-f3c744fb2da0",
   "metadata": {},
   "outputs": [],
   "source": [
    "import analysis\n",
    "# import analysis_group_x as analysis"
   ]
  },
  {
   "cell_type": "code",
   "execution_count": 5,
   "id": "cd797f65-5a1f-432b-a564-faa1dfef6e84",
   "metadata": {},
   "outputs": [],
   "source": [
    "analysis.plot_data()"
   ]
  },
  {
   "cell_type": "code",
   "execution_count": 6,
   "id": "f912aa26-e5fe-459a-bbab-b0052bf2f663",
   "metadata": {},
   "outputs": [],
   "source": [
    "analysis.plot_model_exploration()"
   ]
  },
  {
   "cell_type": "code",
   "execution_count": 7,
   "id": "8eeca9de-ec96-4b77-8bf8-b398cb3f8bb1",
   "metadata": {},
   "outputs": [],
   "source": [
    "analysis.plot_model_prior_samples(N=25)"
   ]
  },
  {
   "cell_type": "code",
   "execution_count": 8,
   "id": "81f888d4-13d1-45e0-bd8e-83d5800c5658",
   "metadata": {},
   "outputs": [],
   "source": [
    "samples = analysis.sample_posterior()"
   ]
  },
  {
   "cell_type": "code",
   "execution_count": 9,
   "id": "d2789b0a-c6f1-4b37-8947-1a9d19cc532e",
   "metadata": {},
   "outputs": [],
   "source": [
    "analysis.plot_posterior_samples(samples)"
   ]
  },
  {
   "cell_type": "code",
   "execution_count": 10,
   "id": "740f74fc-5d72-46b0-9760-cc13755b571b",
   "metadata": {},
   "outputs": [],
   "source": [
    "analysis.plot_model_posterior_samples(samples, N=25)"
   ]
  },
  {
   "cell_type": "code",
   "execution_count": null,
   "id": "d3d02cb0-8502-4b76-af3e-23732103a50d",
   "metadata": {},
   "outputs": [],
   "source": []
  }
 ],
 "metadata": {
  "kernelspec": {
   "display_name": "Python 3",
   "language": "python",
   "name": "python3"
  },
  "language_info": {
   "codemirror_mode": {
    "name": "ipython",
    "version": 3
   },
   "file_extension": ".py",
   "mimetype": "text/x-python",
   "name": "python",
   "nbconvert_exporter": "python",
   "pygments_lexer": "ipython3",
   "version": "3.7.10"
  }
 },
 "nbformat": 4,
 "nbformat_minor": 5
}
